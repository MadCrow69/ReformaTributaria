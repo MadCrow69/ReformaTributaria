{
 "cells": [
  {
   "cell_type": "code",
   "execution_count": null,
   "id": "899abbb0",
   "metadata": {},
   "outputs": [],
   "source": [
    "from fastapi import FastAPI, Request\n",
    "from fastapi.responses import JSONResponse\n",
    "import uvicorn\n",
    "\n",
    "app = FastAPI()\n",
    "\n",
    "@app.post(\"/upload-json\")\n",
    "async def receive_json(request: Request):\n",
    "    try:\n",
    "        json_data = await request.json()\n",
    "        print(\"JSON recebido:\", json_data)\n",
    "        return {\"status\": \"sucesso\", \"mensagem\": \"JSON recebido com sucesso!\"}\n",
    "    except Exception as e:\n",
    "        return JSONResponse(status_code=400, content={\"erro\": str(e)})\n",
    "\n",
    "if __name__ == '__main__':\n",
    "    uvicorn.run(\"main:app\", host=\"0.0.0.0\", port=3375, reload=True)\n"
   ]
  },
  {
   "cell_type": "code",
   "execution_count": null,
   "id": "85ef3cae",
   "metadata": {},
   "outputs": [],
   "source": [
    "from flask import Flask, request, jsonify\n",
    "\n",
    "app = Flask(__name__)\n",
    "\n",
    "@app.route('/reformatributaria', methods=['POST'])\n",
    "def upload_json():\n",
    "    if request.is_json:\n",
    "        data = request.get_json()\n",
    "        print(\"JSON recebido:\", data)\n",
    "        return jsonify({\"status\": \"sucesso\", \"mensagem\": \"JSON recebido com sucesso!\"}), 200\n",
    "    else:\n",
    "        return jsonify({\"erro\": \"Requisição não contém JSON válido\"}), 400\n",
    "\n",
    "if __name__ == '__main__':\n",
    "    app.run(host='0.0.0.0', port=3375)\n"
   ]
  },
  {
   "cell_type": "code",
   "execution_count": null,
   "id": "3e1702d0",
   "metadata": {},
   "outputs": [
    {
     "name": "stdout",
     "output_type": "stream",
     "text": [
      " * Serving Flask app '__main__'\n",
      " * Debug mode: off\n"
     ]
    },
    {
     "name": "stderr",
     "output_type": "stream",
     "text": [
      "c:\\Users\\Diego O. Antunes\\AppData\\Local\\Programs\\Python\\Python312\\Lib\\site-packages\\tqdm\\auto.py:21: TqdmWarning: IProgress not found. Please update jupyter and ipywidgets. See https://ipywidgets.readthedocs.io/en/stable/user_install.html\n",
      "  from .autonotebook import tqdm as notebook_tqdm\n",
      "WARNING: This is a development server. Do not use it in a production deployment. Use a production WSGI server instead.\n",
      " * Running on all addresses (0.0.0.0)\n",
      " * Running on http://127.0.0.1:3375\n",
      " * Running on http://192.168.100.128:3375\n",
      "Press CTRL+C to quit\n",
      "189.40.68.153 - - [17/Apr/2025 11:23:15] \"GET / HTTP/1.1\" 404 -\n",
      "189.40.68.153 - - [17/Apr/2025 11:23:19] \"GET / HTTP/1.1\" 404 -\n",
      "189.40.68.153 - - [17/Apr/2025 11:23:21] \"GET / HTTP/1.1\" 404 -\n",
      "189.40.68.251 - - [17/Apr/2025 11:30:47] \"GET / HTTP/1.1\" 404 -\n"
     ]
    }
   ],
   "source": [
    "from flask import Flask, request, jsonify\n",
    "from flask_cors import CORS  # ← Importa o módulo\n",
    "\n",
    "from gera_analise_gemini import gerar_avaliacao_reforma  # ← Importa a classe GeraAnaliseGemini\n",
    "\n",
    "app = Flask(__name__)\n",
    "CORS(app)  # ← Habilita CORS para todas as rotas\n",
    "\n",
    "@app.route('/reformatributaria', methods=['POST'])\n",
    "def upload_json():\n",
    "    if request.is_json:\n",
    "        try:\n",
    "            data = request.get_json()\n",
    "            print(\"JSON recebido com sucesso:\")\n",
    "            import json\n",
    "            # print(json.dumps(data, indent=4, ensure_ascii=False))\n",
    "            relatorio = gerar_avaliacao_reforma(json.dumps(data, indent=4, ensure_ascii=False))\n",
    "            print(\"✅ Relatório gerado com sucesso!\")\n",
    "\n",
    "            # Salvar o relatório em um arquivo HTML (sobrescrevendo se já existir)\n",
    "            with open('relatorio.html', 'w', encoding='utf-8') as f:\n",
    "                f.write(relatorio)\n",
    "\n",
    "            return jsonify({\n",
    "                \"status\": \"sucesso\",\n",
    "                \"mensagem\": \"JSON recebido com sucesso!\",\n",
    "                \"empresa\": data.get(\"empresa\", {}).get(\"razao_social\", \"Empresa não informada\")\n",
    "            }), 200\n",
    "\n",
    "        except Exception as e:\n",
    "            print(\"❌ Erro ao processar JSON:\", e)\n",
    "            return jsonify({\n",
    "                \"status\": \"erro\",\n",
    "                \"mensagem\": \"Erro ao processar o JSON enviado.\"\n",
    "            }), 500\n",
    "    else:\n",
    "        return jsonify({\n",
    "            \"erro\": \"Requisição não contém JSON válido\"\n",
    "        }), 400\n",
    "\n",
    "if __name__ == '__main__':\n",
    "    app.run(host='0.0.0.0', port=3375)\n"
   ]
  }
 ],
 "metadata": {
  "kernelspec": {
   "display_name": "Python 3",
   "language": "python",
   "name": "python3"
  },
  "language_info": {
   "codemirror_mode": {
    "name": "ipython",
    "version": 3
   },
   "file_extension": ".py",
   "mimetype": "text/x-python",
   "name": "python",
   "nbconvert_exporter": "python",
   "pygments_lexer": "ipython3",
   "version": "3.12.1"
  }
 },
 "nbformat": 4,
 "nbformat_minor": 5
}
